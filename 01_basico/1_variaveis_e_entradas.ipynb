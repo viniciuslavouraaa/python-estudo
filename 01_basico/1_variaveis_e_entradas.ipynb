{
 "cells": [
  {
   "cell_type": "markdown",
   "id": "c87f6ad4",
   "metadata": {},
   "source": [
    "### Exercício 1:\n",
    "Solicite ao usuário seu nome e imprima uma mensagem de boas-vindas."
   ]
  },
  {
   "cell_type": "code",
   "execution_count": null,
   "id": "7427c7f9",
   "metadata": {},
   "outputs": [],
   "source": [
    "nome = input('Digite seu nome:')\n",
    "print(f'Olá, {nome}! Seja bem-vindo(a)!')"
   ]
  },
  {
   "cell_type": "markdown",
   "id": "344bb634",
   "metadata": {},
   "source": [
    "### Exercício 2:\n",
    "Peça dois números ao usuário e exiba a soma deles."
   ]
  },
  {
   "cell_type": "code",
   "execution_count": null,
   "id": "daaf262d",
   "metadata": {},
   "outputs": [],
   "source": [
    "num1 = float(input('Digite um número'))\n",
    "num2 = float(input('Digite outro número'))\n",
    "soma = num1 + num2\n",
    "\n",
    "print(f'A soma entre {num1} e {num2} é {soma}.')"
   ]
  },
  {
   "cell_type": "markdown",
   "id": "dc5b506d",
   "metadata": {},
   "source": [
    "### Exercício 3:\n",
    "Peça ao usuário o nome e a idade e imprima uma frase com essas informações."
   ]
  },
  {
   "cell_type": "code",
   "execution_count": null,
   "id": "263daf0f",
   "metadata": {},
   "outputs": [],
   "source": [
    "nome = input('Digite seu nome:')\n",
    "idade = int(input('Digite sua idade:'))\n",
    "\n",
    "print(f'{nome} tem {idade} anos')"
   ]
  },
  {
   "cell_type": "markdown",
   "id": "b04f2d45",
   "metadata": {},
   "source": [
    "### Exercício 4:\n",
    "Peça ao usuário um valor em metros e converta para centímetros e milímetros."
   ]
  },
  {
   "cell_type": "code",
   "execution_count": 8,
   "id": "4f5f2ff2",
   "metadata": {},
   "outputs": [
    {
     "name": "stdout",
     "output_type": "stream",
     "text": [
      "150 metros equivalem a 15000.0 milímetros\n"
     ]
    }
   ],
   "source": [
    "valorMetro = float(input('Digite um valor em metros:'))\n",
    "unidade = input('Você deseja converter em centímetros ou milímetros?')\n",
    "\n",
    "if unidade == \"centímetros\" or unidade == 'cm':\n",
    "    valorCm = valorMetro * 100\n",
    "    print(f'{valorMetro:.0f} metros equivalem a {valorCm} centímetros')\n",
    "elif unidade == \"milímetros\" or unidade == 'mm':\n",
    "    valorMm = valorMetro * 100\n",
    "    print(f'{valorMetro:.0f} metros equivalem a {valorMm} milímetros')\n",
    "else:\n",
    "    print('Digite um valor válido!')\n"
   ]
  },
  {
   "cell_type": "markdown",
   "id": "04d28133",
   "metadata": {},
   "source": [
    "### Exercício 5:\n",
    "Peça ao usuário o preço de um produto e calcule o preço com 10% de desconto."
   ]
  },
  {
   "cell_type": "code",
   "execution_count": 11,
   "id": "936721d1",
   "metadata": {},
   "outputs": [
    {
     "name": "stdout",
     "output_type": "stream",
     "text": [
      "Com 10% de desconto, o produto custa R$27.0\n"
     ]
    }
   ],
   "source": [
    "produto = input('Nome do produto:')\n",
    "valorProduto = float(input('Valor do produto:R$ '))\n",
    "desconto = valorProduto * (10 / 100)\n",
    "novoPreco = valorProduto - desconto\n",
    "print(f'Com 10% de desconto, o produto custa R${novoPreco}')"
   ]
  }
 ],
 "metadata": {
  "kernelspec": {
   "display_name": "Python 3",
   "language": "python",
   "name": "python3"
  },
  "language_info": {
   "codemirror_mode": {
    "name": "ipython",
    "version": 3
   },
   "file_extension": ".py",
   "mimetype": "text/x-python",
   "name": "python",
   "nbconvert_exporter": "python",
   "pygments_lexer": "ipython3",
   "version": "3.13.1"
  }
 },
 "nbformat": 4,
 "nbformat_minor": 5
}
