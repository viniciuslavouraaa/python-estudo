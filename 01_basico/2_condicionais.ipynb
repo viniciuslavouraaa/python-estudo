{
 "cells": [
  {
   "cell_type": "markdown",
   "id": "97a8c404",
   "metadata": {},
   "source": [
    "### Exercício 01\n",
    "Verifique se o número digitado pelo usuário é positivo ou negativo."
   ]
  },
  {
   "cell_type": "code",
   "execution_count": null,
   "id": "5e00c07f",
   "metadata": {},
   "outputs": [],
   "source": [
    "numero = float(input('Digite um número:'))\n",
    "\n",
    "if numero < 0:\n",
    "    print(f'O número {numero} é negativo!')\n",
    "else:\n",
    "    print(f'O número {numero} é positivo!')"
   ]
  },
  {
   "cell_type": "markdown",
   "id": "e42e6514",
   "metadata": {},
   "source": [
    "### Exercício 02\n",
    "Peça ao usuário um número e diga se ele é par ou ímpar."
   ]
  },
  {
   "cell_type": "code",
   "execution_count": null,
   "id": "5661114c",
   "metadata": {},
   "outputs": [],
   "source": [
    "numero = float(input('Digite um número:'))\n",
    "\n",
    "if numero % 2 == 0:\n",
    "    print('O número é par')\n",
    "else:\n",
    "    print('O número é impar')"
   ]
  },
  {
   "cell_type": "markdown",
   "id": "3e39dfa2",
   "metadata": {},
   "source": [
    "### Exercício 03\n",
    "Peça o nome de usuário e a senha. Verifique se estão corretos."
   ]
  },
  {
   "cell_type": "code",
   "execution_count": null,
   "id": "d93e1d2c",
   "metadata": {},
   "outputs": [
    {
     "name": "stdout",
     "output_type": "stream",
     "text": [
      "O nome de usuário nao deve conter espaços e caracteres especiais\n",
      "Usuário válido\n",
      "A senha deve ter no mínimo 8 caracteres \n",
      "Usar letras maiúsculas e minúsculas, números e caracteres especiais.\n",
      "Sua senha deve conter pelo menos um número\n",
      "Sua senha deve conter pelo menos um caractere especial.\n",
      "Senha válida\n"
     ]
    }
   ],
   "source": [
    "print('O nome de usuário nao deve conter espaços e caracteres especiais')\n",
    "\n",
    "caracteres_especiais = ['!', '@', '#', '$', '%', '&', '*', '(', ')', '-', '+', '=', '/', '?', '.', ',', ':', ';', '<', '>', '[', ']', '{', '}', '|', '\\\\', \"'\", '\"', '^', '~', '`']\n",
    "# Bloco de teste usuário\n",
    "while True:\n",
    "    usuario = input('Digite seu nome de usuário:')\n",
    "    \n",
    "    if ' ' in usuario:\n",
    "        print('Usuário contém espaços, retire os espaços e tente novamente!')\n",
    "        continue\n",
    "    elif len(usuario) < 8:\n",
    "        print('Usuário deve ter no mínimo 8 caracteres')\n",
    "        continue\n",
    "    if any(caracter in usuario for caracter in caracteres_especiais):\n",
    "            print('Usuário não pode conter caracteres especiais.')\n",
    "            continue\n",
    "    print('Usuário válido')\n",
    "    break\n",
    "\n",
    "# Bloco de teste senha\n",
    "\n",
    "print('A senha deve ter no mínimo 8 caracteres \\nUsar letras maiúsculas e minúsculas, números e caracteres especiais.')\n",
    "while True:\n",
    "    senha = input('Digite sua senha:')\n",
    "    \n",
    "    if len(senha) < 8:\n",
    "        print('Sua senha deve ter no mínimo 8 caracteres')\n",
    "        continue\n",
    "    if not any(letra.isupper() for letra in senha):\n",
    "        print('Sua senha deve conter pelo menos uma letra maíscula')\n",
    "        continue\n",
    "    if not any(num.isdigit() for num in senha):\n",
    "        print('Sua senha deve conter pelo menos um número')\n",
    "        continue\n",
    "    if not any(letra in caracteres_especiais for letra in senha):\n",
    "        print('Sua senha deve conter pelo menos um caractere especial.')\n",
    "        continue\n",
    "    \n",
    "    print('Senha válida')\n",
    "    break\n",
    "print('Cadastro realizado com sucesso!')\n",
    "    \n"
   ]
  }
 ],
 "metadata": {
  "kernelspec": {
   "display_name": "Python 3",
   "language": "python",
   "name": "python3"
  },
  "language_info": {
   "codemirror_mode": {
    "name": "ipython",
    "version": 3
   },
   "file_extension": ".py",
   "mimetype": "text/x-python",
   "name": "python",
   "nbconvert_exporter": "python",
   "pygments_lexer": "ipython3",
   "version": "3.13.1"
  }
 },
 "nbformat": 4,
 "nbformat_minor": 5
}
