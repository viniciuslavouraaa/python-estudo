{
 "cells": [
  {
   "cell_type": "code",
   "execution_count": 1,
   "id": "c44f57d9",
   "metadata": {},
   "outputs": [],
   "source": [
    "import tkinter as tk\n",
    "\n",
    "# Função para atualizar o texto na tela\n",
    "def clicar(botao):\n",
    "    atual = entrada.get()\n",
    "    entrada.delete(0, tk.END)\n",
    "    entrada.insert(0, atual + str(botao))\n",
    "\n",
    "# Função para limpar a tela\n",
    "def limpar():\n",
    "    entrada.delete(0, tk.END)\n",
    "\n",
    "# Função para calcular o resultado\n",
    "def calcular():\n",
    "    try:\n",
    "        resultado = eval(entrada.get())\n",
    "        entrada.delete(0, tk.END)\n",
    "        entrada.insert(0, str(resultado))\n",
    "    except:\n",
    "        entrada.delete(0, tk.END)\n",
    "        entrada.insert(0, \"Erro\")\n",
    "\n",
    "# Janela principal\n",
    "janela = tk.Tk()\n",
    "janela.title(\"Calculadora\")\n",
    "\n",
    "# Campo de entrada\n",
    "entrada = tk.Entry(janela, width=25, font=(\"Arial\", 18), borderwidth=5, relief=\"ridge\", justify=\"right\")\n",
    "entrada.grid(row=0, column=0, columnspan=4, padx=10, pady=10)\n",
    "\n",
    "# Botões\n",
    "botoes = [\n",
    "    ('7',1,0), ('8',1,1), ('9',1,2), ('/',1,3),\n",
    "    ('4',2,0), ('5',2,1), ('6',2,2), ('*',2,3),\n",
    "    ('1',3,0), ('2',3,1), ('3',3,2), ('-',3,3),\n",
    "    ('0',4,0), ('.',4,1), ('+',4,2), ('=',4,3),\n",
    "]\n",
    "\n",
    "for (txt, linha, coluna) in botoes:\n",
    "    if txt == '=':\n",
    "        cmd = calcular\n",
    "    else:\n",
    "        cmd = lambda t=txt: clicar(t)\n",
    "    tk.Button(janela, text=txt, width=5, height=2, font=(\"Arial\", 16), command=cmd).grid(row=linha, column=coluna)\n",
    "\n",
    "# Botão de limpar\n",
    "tk.Button(janela, text='C', width=5, height=2, font=(\"Arial\", 16), command=limpar).grid(row=5, column=0, columnspan=4, sticky=\"we\")\n",
    "\n",
    "# Rodar janela\n",
    "janela.mainloop()\n"
   ]
  }
 ],
 "metadata": {
  "kernelspec": {
   "display_name": "Python 3",
   "language": "python",
   "name": "python3"
  },
  "language_info": {
   "codemirror_mode": {
    "name": "ipython",
    "version": 3
   },
   "file_extension": ".py",
   "mimetype": "text/x-python",
   "name": "python",
   "nbconvert_exporter": "python",
   "pygments_lexer": "ipython3",
   "version": "3.13.1"
  }
 },
 "nbformat": 4,
 "nbformat_minor": 5
}
