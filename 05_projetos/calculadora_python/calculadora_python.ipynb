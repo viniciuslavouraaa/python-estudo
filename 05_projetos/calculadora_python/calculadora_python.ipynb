{
 "cells": [
  {
   "cell_type": "code",
   "execution_count": null,
   "id": "e331606d",
   "metadata": {},
   "outputs": [],
   "source": [
    "def calculadora():\n",
    "    while True:\n",
    "        print('Selecione o número da operação desejada:\\n1- Soma\\n2- Subtração\\n3- Multiplicação \\n4- Divisão')\n",
    "        operacao = input('Selecione operador desejado(1, 2, 3, 4):')\n",
    "        \n",
    "        acumulador = None\n",
    "        \n",
    "        while True:\n",
    "            entrada = input(\"Digite um número (pressione Enter para finalizar): \")\n",
    "            if entrada == '':\n",
    "                break\n",
    "            try:\n",
    "                numero  = float(entrada)\n",
    "            except ValueError:\n",
    "                print(\"Entrada inválida. Por favor, digite um número ou pressione Enter para sair.\")\n",
    "                continue\n",
    "            if acumulador is None:\n",
    "                acumulador = numero\n",
    "            else:\n",
    "                if operacao == '1':\n",
    "                    acumulador += numero\n",
    "                elif operacao == '2':\n",
    "                    acumulador -= numero\n",
    "                elif operacao == '3':\n",
    "                    acumulador *= numero\n",
    "                elif operacao == '4':\n",
    "                    if numero == 0:\n",
    "                        print('Divisão por zero!')\n",
    "                        continue\n",
    "                    acumulador /= numero\n",
    "\n",
    "            print(f'Resultado da operação: {acumulador}')\n",
    "            \n",
    "        # Finalizar processo\n",
    "        comando = input('Deseja realizar outra operação:(y/n)').lower()\n",
    "        if comando == 'y':\n",
    "            continue\n",
    "        else:\n",
    "            print('Obrigado por utilizar nossa calculdora!')\n",
    "            break\n",
    "calculadora()"
   ]
  }
 ],
 "metadata": {
  "kernelspec": {
   "display_name": "Python 3",
   "language": "python",
   "name": "python3"
  },
  "language_info": {
   "codemirror_mode": {
    "name": "ipython",
    "version": 3
   },
   "file_extension": ".py",
   "mimetype": "text/x-python",
   "name": "python",
   "nbconvert_exporter": "python",
   "pygments_lexer": "ipython3",
   "version": "3.13.1"
  }
 },
 "nbformat": 4,
 "nbformat_minor": 5
}
